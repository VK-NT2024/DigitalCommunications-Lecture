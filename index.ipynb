{
 "cells": [
  {
   "cell_type": "markdown",
   "metadata": {
    "nbsphinx": "hidden"
   },
   "source": [
    "# Digital Communications\n",
    "\n",
    "This collection of [jupyter](https://jupyter.org/) notebooks introduces various aspects of multicarrier communication systems. The theory is briefly summarized and accompanied by computational examples written in [IPython 3](http://ipython.org/). For detailed information about the theoretical background, we refer to the lecture slides in Digital Communications and the recommended literature. The notebooks constitute the project to the masters course Digital Communications read by Volker Kühn, Institute of Communications Engineering, Universität Rostock."
   ]
  },
  {
   "cell_type": "markdown",
   "metadata": {
    "nbsphinx-toctree": {
     "maxdepth": 3,
     "numbered": true
    }
   },
   "source": [
    "# Exercises"
   ]
  },
  {
   "cell_type": "markdown",
   "metadata": {
    "nbsphinx-toctree": {
     "maxdepth": 3,
     "numbered": true
    }
   },
   "source": [
    "1. [Uncoded QAM transmission](DC-01_QAM+AWGN.ipynb)\n",
    "2. [Fading Channels](DC-02_FadingChannels.ipynb)\n",
    "3. [Plain OFDM System](DC-03_plainOFDMsystem.ipynb)\n",
    "4. [Transition to Analog Channel](DC-04_transitionAnalogChannel.ipynb)\n",
    "5. [Channel Estimation](DC-05_ChannelEstimation.ipynb)\n",
    "6. [Time Synchronization](DC-06_TimeSynch.ipynb)\n",
    "7. [Frequency Synchronization](DC-07_FrequencySynch.ipynb)\n"
   ]
  },
  {
   "cell_type": "markdown",
   "metadata": {},
   "source": [
    "# Literature\n",
    "\n",
    "The contents base on the following literature:\n",
    "\n",
    "* Lecture slides available via StudIP\n",
    "* John G. Proakis: “Digital Communications”\n",
    "* Biglieri/Benedetto: „Principles of Digital Communications“\n",
    "* Rappaport: “Wireless Communications: Principles and Practice”\n",
    "* Glover, Grant: “Digital Communications”\n",
    "* Schulze, Lüders: “Theory and Applications of OFDM and CDMA”\n",
    "* Perahia, Stacey: “Next Generation Wireless LANs”\n",
    "* Holma, Toskala: “WCDMA for UMTS”\n",
    "* Dahlman, Parkvall, Sköld: “4G LTE/LTE-Advanced for Mobile Broadband”\n",
    "* Kammeyer, Dekorsy: “Nachrichtenübertragung”, 2018\n",
    "* Höher: “Grundlagen der digitalen Informationsübertragung”, 2013"
   ]
  },
  {
   "cell_type": "markdown",
   "metadata": {},
   "source": [
    "# Contributors\n",
    "\n",
    "* Volker Kühn (author)\n",
    "* Clemens-Konrad Müller (proofreading)\n",
    "* Steffen Steiner (proofreading)\n",
    "* Ahmed Alaa Ahmed Alkishki (implementation of ECC library, code review)"
   ]
  },
  {
   "cell_type": "markdown",
   "metadata": {},
   "source": [
    "**Copyright**\n",
    "\n",
    "The notebooks are provided as [Open Educational Resources](https://en.wikipedia.org/wiki/Open_educational_resources). Feel free to use the notebooks for your own purposes. The text is licensed under [Creative Commons Attribution 4.0](https://creativecommons.org/licenses/by/4.0/), the code of the IPython examples under the [MIT license](https://opensource.org/licenses/MIT). Please attribute the work as follows: *Sascha Spors, Digital Signal Processing - Lecture notes featuring computational examples*."
   ]
  }
 ],
 "metadata": {
  "anaconda-cloud": {},
  "kernelspec": {
   "display_name": "Python 3 (ipykernel)",
   "language": "python",
   "name": "python3"
  },
  "language_info": {
   "codemirror_mode": {
    "name": "ipython",
    "version": 3
   },
   "file_extension": ".py",
   "mimetype": "text/x-python",
   "name": "python",
   "nbconvert_exporter": "python",
   "pygments_lexer": "ipython3",
   "version": "3.9.17"
  }
 },
 "nbformat": 4,
 "nbformat_minor": 4
}
